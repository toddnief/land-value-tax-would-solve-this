{
 "cells": [
  {
   "cell_type": "markdown",
   "metadata": {},
   "source": [
    "#### Unused Models"
   ]
  },
  {
   "cell_type": "markdown",
   "id": "66cc71e8-db5c-4b16-803d-130b7292391a",
   "metadata": {},
   "source": [
    "#### Ridge With Regularization Removed"
   ]
  },
  {
   "cell_type": "markdown",
   "id": "7554ab3c-6281-4104-9a41-9e54e2bf3848",
   "metadata": {},
   "source": [
    "Closed form solution - inverse fails"
   ]
  },
  {
   "cell_type": "code",
   "execution_count": null,
   "id": "4fedae96-4a51-4ad6-93aa-60d15cc9ec72",
   "metadata": {},
   "outputs": [],
   "source": [
    "def ridge_unreg(X,y,lam, unreg_idx):\n",
    "    eye_len = len(X.columns)\n",
    "    X = X.to_numpy()\n",
    "    y = y.to_numpy()\n",
    "    unreg_eye = np.eye(eye_len)\n",
    "    unreg_eye[unreg_idx][unreg_idx] = 0\n",
    "    B = np.linalg.inv(X.T @ X + lam * (unreg_eye)) @ X.T @ y\n",
    "    return B"
   ]
  },
  {
   "cell_type": "markdown",
   "id": "c18c3ef0-e20a-4b32-984b-25c87ebad822",
   "metadata": {},
   "source": [
    "#### Modified Ridge (Don't Regularize Land Value)"
   ]
  },
  {
   "cell_type": "markdown",
   "id": "e97f6c35",
   "metadata": {},
   "source": [
    "Start with the coefficients from Sci-Kit's Ridge model to speed up convergence"
   ]
  },
  {
   "cell_type": "code",
   "execution_count": null,
   "id": "0f3c37e1",
   "metadata": {},
   "outputs": [],
   "source": [
    "class LVTRidge():\n",
    "    def __init__(self, unreg_idx, alpha=.01, lam=.1, T=100, theta_init=None):\n",
    "        self.unreg_idx = unreg_idx\n",
    "        self.alpha = alpha\n",
    "        self.lam = lam\n",
    "        self.T = T\n",
    "        self.theta_init = theta_init\n",
    "\n",
    "    def loss(self, X, y, theta):\n",
    "        \"\"\"\n",
    "        Return the loss for given inputs X, targets y, parameters theta,\n",
    "        and regularization coefficient lam.\n",
    "        \"\"\"\n",
    "        unreg_theta = theta.copy()\n",
    "        unreg_theta[self.unreg_idx] = 0\n",
    "        yhat = X @ theta\n",
    "        return (((y-yhat)**2).sum() + (self.lam*(unreg_theta)**2)).sum()/len(y)\n",
    "\n",
    "    def gradient_descent(self, X, y):\n",
    "        if self.theta_init is not None:\n",
    "            theta = self.theta_init.copy()\n",
    "        else:\n",
    "            theta = np.zeros(X.shape[1] + 1)\n",
    "        m = len(y)\n",
    "        \n",
    "        # keep track of losses\n",
    "        losses = np.zeros(self.T)\n",
    "\n",
    "        for t in range(T):\n",
    "            theta = theta - self.alpha * (-2 / m * (X.T @ (y - X @ theta)) - 2 * self.lam * theta)\n",
    "            losses[t] = self.loss(X, y, theta)\n",
    "        \n",
    "        return theta, losses\n",
    "\n",
    "    def fit(self, X, y):\n",
    "        self.theta, losses = self.gradient_descent(X,y)\n",
    "\n",
    "    def predict(self, X):\n",
    "        yhat = X @ self.theta \n",
    "        return yhat"
   ]
  },
  {
   "cell_type": "code",
   "execution_count": null,
   "id": "a403794c-c805-44d0-a77a-99447424cba6",
   "metadata": {},
   "outputs": [],
   "source": [
    "alpha = .01\n",
    "lam = .1\n",
    "T = 100\n",
    "theta_sk = model_ridge_sk.coef_ # use the coefficients from the Ridge model as a starting point\n",
    "unreg_col = XX.columns.get_loc(\"kernel_land_price_per_ft_log\")\n",
    "\n",
    "model_ridge_unreg = LVTRidge(unreg_col, alpha, lam, T, theta_sk)"
   ]
  },
  {
   "cell_type": "code",
   "execution_count": null,
   "id": "0b0a9be3",
   "metadata": {},
   "outputs": [],
   "source": [
    "results = cross_validate(XX,y,model_ridge_unreg)"
   ]
  },
  {
   "cell_type": "code",
   "execution_count": null,
   "id": "0db66fdf-6cd0-42fa-8f42-e03a1388e119",
   "metadata": {},
   "outputs": [],
   "source": [
    "results"
   ]
  },
  {
   "cell_type": "markdown",
   "id": "fcf715e0",
   "metadata": {},
   "source": [
    "#### Tab Transformer"
   ]
  },
  {
   "cell_type": "code",
   "execution_count": null,
   "id": "f8ed1144",
   "metadata": {},
   "outputs": [],
   "source": [
    "import torch\n",
    "import torch.nn as nn\n",
    "from tab_transformer_pytorch import TabTransformer\n",
    "\n",
    "cont_mean_std = torch.randn(10, 2)\n",
    "\n",
    "model = TabTransformer(\n",
    "    categories = (10, 5, 6, 5, 8),      # tuple containing the number of unique values within each category\n",
    "    num_continuous = 10,                # number of continuous values\n",
    "    dim = 32,                           # dimension, paper set at 32\n",
    "    dim_out = 1,                        # binary prediction, but could be anything\n",
    "    depth = 6,                          # depth, paper recommended 6\n",
    "    heads = 8,                          # heads, paper recommends 8\n",
    "    attn_dropout = 0.1,                 # post-attention dropout\n",
    "    ff_dropout = 0.1,                   # feed forward dropout\n",
    "    mlp_hidden_mults = (4, 2),          # relative multiples of each hidden dimension of the last mlp to logits\n",
    "    mlp_act = nn.ReLU(),                # activation for final mlp, defaults to relu, but could be anything else (selu etc)\n",
    "    continuous_mean_std = cont_mean_std # (optional) - normalize the continuous values before layer norm\n",
    ")\n",
    "\n",
    "x_categ = torch.randint(0, 5, (1, 5))     # category values, from 0 - max number of categories, in the order as passed into the constructor above\n",
    "x_cont = torch.randn(1, 10)               # assume continuous values are already normalized individually\n",
    "\n",
    "pred = model(x_categ, x_cont) # (1, 1)"
   ]
  },
  {
   "cell_type": "code",
   "execution_count": null,
   "id": "036a3d72",
   "metadata": {},
   "outputs": [],
   "source": [
    "pred"
   ]
  },
  {
   "cell_type": "markdown",
   "id": "705193c0-ef63-4011-8076-bc4fc1513290",
   "metadata": {},
   "source": [
    "## OLD CODE"
   ]
  },
  {
   "cell_type": "code",
   "execution_count": 1,
   "metadata": {},
   "outputs": [],
   "source": [
    "def get_building_cat(df,cat):\n",
    "    return df[df[cat]==1]\n",
    "\n",
    "def sale_ward_xy(df,ward):\n",
    "    df = df[df['geographic_ward']==ward]\n",
    "    return sale_xy(df)\n",
    "\n",
    "def sale_cat_xy(df,cat):\n",
    "    df = df[df['category_code']==cat]\n",
    "    return sale_xy(df)"
   ]
  },
  {
   "cell_type": "markdown",
   "id": "2f8711d4-a14e-496e-b33c-aca8f3326bbb",
   "metadata": {},
   "source": [
    "#### Sci-Kit Ridge"
   ]
  },
  {
   "cell_type": "code",
   "execution_count": null,
   "id": "3d731cb6-d30c-4534-b05c-612bbb5b2f47",
   "metadata": {},
   "outputs": [],
   "source": [
    "from sklearn.linear_model import Ridge\n",
    "from sklearn.feature_selection import SequentialFeatureSelector\n",
    "from sklearn.preprocessing import MinMaxScaler"
   ]
  },
  {
   "cell_type": "code",
   "execution_count": null,
   "id": "f28a5588-3847-465f-9b86-b01dda6124d5",
   "metadata": {},
   "outputs": [],
   "source": [
    "alpha = .1\n",
    "model = Ridge(alpha=alpha)\n",
    "scaler = MinMaxScaler()\n",
    "feature_selector = SequentialFeatureSelector(model,scoring='neg_mean_absolute_percentage_error',direction='backward')"
   ]
  },
  {
   "cell_type": "code",
   "execution_count": null,
   "id": "858010e2-9fdc-41d9-86f3-e9a3f44b0c13",
   "metadata": {},
   "outputs": [],
   "source": [
    "ward_results = {}\n",
    "ward_scores = {}\n",
    "ward_results_trim = {}\n",
    "ward_scores_trim = {}"
   ]
  },
  {
   "cell_type": "markdown",
   "id": "7777aa04-c46d-44a8-9b22-b69c300f69af",
   "metadata": {},
   "source": [
    "TRIM THE TOP 5% AND BOTTOM 1%?"
   ]
  },
  {
   "cell_type": "code",
   "execution_count": null,
   "id": "18082796-1b6e-4eb2-8bc3-1dbf9c308172",
   "metadata": {},
   "outputs": [],
   "source": [
    "# for running smaller subsets of categories and wards\n",
    "wards = sorted(X.geographic_ward.unique())\n",
    "wards = [1,2]\n",
    "\n",
    "cats = sorted(X.category_code.unique())\n",
    "cats = [1,4,6]\n",
    "\n",
    "cat_ward_cols = ['geographic_ward','category_code']\n",
    "\n",
    "for ward in wards:\n",
    "    for cat in cats:\n",
    "            XX = X[(X.geographic_ward == ward) & (X.category_code == cat)].drop(cat_ward_cols,axis=1)\n",
    "            yy = y[y.index.isin(XX.index)]\n",
    "            if len(XX) > 10:\n",
    "                XXs = scaler.fit_transform(XX)\n",
    "                \n",
    "                feature_selector.fit(XXs,yy)\n",
    "                features = XX.columns[feature_selector.get_support()]\n",
    "                XXss = feature_selector.transform(XXs)\n",
    "                \n",
    "                model.fit(XXss,yy)\n",
    "                yyhat = model.predict(XXss)\n",
    "                scores = np.exp(yyhat)/np.exp(yy)\n",
    "                \n",
    "                mean = np.mean(scores)\n",
    "                med = np.median(scores)\n",
    "                cod = np.mean((scores-med)/med)\n",
    "                results = {\"mean\": mean,\n",
    "                           \"median\": med,\n",
    "                           \"cod\": cod,\n",
    "                           \"features\": features}\n",
    "\n",
    "                ward_results[(ward,cat)] = results\n",
    "                ward_scores[(ward,cat)] = scores\n",
    "            \n",
    "                # remove top and bottom 5% as outliers\n",
    "                outliers = len(scores)//20\n",
    "                scores_trim = np.sort(scores)[outliers:-outliers]\n",
    "                \n",
    "                mean = np.mean(scores_trim)\n",
    "                med = np.median(scores_trim)\n",
    "                cod = np.mean((scores_trim-med)/med)\n",
    "                \n",
    "                results_trim = {\"mean\": mean,\n",
    "                           \"median\": med,\n",
    "                           \"cod\": cod,\n",
    "                           \"features\": features}\n",
    "                \n",
    "                ward_results_trim[(ward,cat)] = results_trim\n",
    "                ward_scores_trim[(ward,cat)] = scores_trim\n",
    "        "
   ]
  },
  {
   "cell_type": "code",
   "execution_count": null,
   "id": "a8cbcc3c-17e1-4b58-83ff-947509921102",
   "metadata": {},
   "outputs": [],
   "source": [
    "outliers = len(scores)//20"
   ]
  },
  {
   "cell_type": "code",
   "execution_count": null,
   "id": "01451dd0-3e77-4411-b2ea-a9c5ffb894ca",
   "metadata": {},
   "outputs": [
    {
     "data": {
      "text/plain": [
       "243"
      ]
     },
     "metadata": {},
     "output_type": "display_data"
    }
   ],
   "source": [
    "len(scores)"
   ]
  },
  {
   "cell_type": "code",
   "execution_count": null,
   "id": "94d87faa-3edc-4576-80eb-450395df8471",
   "metadata": {},
   "outputs": [
    {
     "data": {
      "text/plain": [
       "219"
      ]
     },
     "metadata": {},
     "output_type": "display_data"
    }
   ],
   "source": [
    "len(np.sort(scores)[outliers:-outliers])"
   ]
  },
  {
   "cell_type": "code",
   "execution_count": null,
   "id": "ae0b063b-ea1a-498c-a197-bb1a5299d96a",
   "metadata": {},
   "outputs": [
    {
     "data": {
      "text/plain": [
       "{(1, 1): 1.2239863836318903,\n",
       " (1, 4): 1.1148891237261247,\n",
       " (1, 6): 2.5611982007188763,\n",
       " (2, 1): 1.147762745627715,\n",
       " (2, 4): 1.3402442207150163,\n",
       " (2, 6): 2.3172168970622553}"
      ]
     },
     "metadata": {},
     "output_type": "display_data"
    }
   ],
   "source": [
    "ward_scores_trim"
   ]
  },
  {
   "cell_type": "code",
   "execution_count": null,
   "id": "23789723-ba87-4788-ac52-237fd0d7db00",
   "metadata": {},
   "outputs": [],
   "source": [
    "ward_results"
   ]
  },
  {
   "cell_type": "code",
   "execution_count": null,
   "id": "6d5d315d-15bd-446f-88e3-e56a7496c915",
   "metadata": {},
   "outputs": [],
   "source": [
    "ward_results_trim"
   ]
  },
  {
   "cell_type": "code",
   "execution_count": null,
   "id": "6cb3a980-ca43-4efc-99da-f0695168df38",
   "metadata": {},
   "outputs": [],
   "source": [
    "results_trim"
   ]
  },
  {
   "cell_type": "markdown",
   "id": "f37e3415-4aa0-46fd-b27b-8046c63ae4d1",
   "metadata": {},
   "source": [
    "##### XGBoost"
   ]
  },
  {
   "cell_type": "code",
   "execution_count": null,
   "id": "4bdace55-6536-42dc-8060-0a2669619af6",
   "metadata": {},
   "outputs": [],
   "source": [
    "import xgboost as xgb\n",
    "model = xgb.XGBRegressor(learning_rate=.1,max_depth=8,n_estimators=180)"
   ]
  },
  {
   "cell_type": "code",
   "execution_count": null,
   "id": "bc2e7eb2-1616-4585-8085-fc086160abdc",
   "metadata": {},
   "outputs": [
    {
     "ename": "SyntaxError",
     "evalue": "invalid syntax (3072173994.py, line 1)",
     "output_type": "error",
     "traceback": [
      "\u001b[0;36m  Cell \u001b[0;32mIn [753], line 1\u001b[0;36m\u001b[0m\n",
      "\u001b[0;31m    model.fit(X.drop[['geographic_ward','category_code'],axis=1],y)\u001b[0m\n",
      "\u001b[0m                                                             ^\u001b[0m\n",
      "\u001b[0;31mSyntaxError\u001b[0m\u001b[0;31m:\u001b[0m invalid syntax\n"
     ]
    }
   ],
   "source": [
    "model.fit(X.drop[['geographic_ward','category_code'],axis=1],y)"
   ]
  },
  {
   "cell_type": "code",
   "execution_count": null,
   "id": "c6da3548-3606-479c-8cf3-63bb58d960b8",
   "metadata": {},
   "outputs": [],
   "source": [
    "yhat = model.predict(X_log)"
   ]
  },
  {
   "cell_type": "code",
   "execution_count": null,
   "id": "f2abb2c3-247b-430d-a83b-dcff921677b0",
   "metadata": {},
   "outputs": [
    {
     "data": {
      "text/plain": [
       "objectid\n",
       "75913755    0.325172\n",
       "76138460    0.546302\n",
       "75760180    0.550956\n",
       "76128800    0.217778\n",
       "76023304    0.368448\n",
       "              ...   \n",
       "75783517    1.617735\n",
       "75937986    0.358455\n",
       "76043115    0.050435\n",
       "75799362    0.334209\n",
       "75795261    0.636706\n",
       "Name: sale_price, Length: 297903, dtype: float64"
      ]
     },
     "metadata": {},
     "output_type": "display_data"
    }
   ],
   "source": [
    "scores = abs(np.exp(yhat) - np.exp(y))/np.exp(y)\n",
    "scores"
   ]
  },
  {
   "cell_type": "code",
   "execution_count": null,
   "id": "dfa28979-a7f3-4885-a808-15018d81a611",
   "metadata": {},
   "outputs": [
    {
     "data": {
      "text/plain": [
       "1.014869961282009"
      ]
     },
     "metadata": {},
     "output_type": "display_data"
    }
   ],
   "source": [
    "MAPE = scores.sum()/len(scores)\n",
    "MAPE"
   ]
  },
  {
   "cell_type": "code",
   "execution_count": null,
   "id": "2320b45b-e176-4506-8d6b-2495fdcc1933",
   "metadata": {},
   "outputs": [],
   "source": [
    "from sklearn.linear_model import Lasso\n",
    "alpha = .01\n",
    "model = Lasso(alpha=alpha,max_iter=5000)"
   ]
  },
  {
   "cell_type": "code",
   "execution_count": null,
   "id": "0a57b2eb-8c9a-40ce-99c5-f9fc1b4669f9",
   "metadata": {},
   "outputs": [
    {
     "data": {
      "text/plain": [
       "Lasso(alpha=0.01, max_iter=5000)"
      ]
     },
     "metadata": {},
     "output_type": "display_data"
    }
   ],
   "source": [
    "model.fit(X_log,y)"
   ]
  },
  {
   "cell_type": "code",
   "execution_count": null,
   "id": "333a32af-d310-410d-b3f3-49dec5112528",
   "metadata": {},
   "outputs": [],
   "source": [
    "yhat = model.predict(X_log)"
   ]
  },
  {
   "cell_type": "code",
   "execution_count": null,
   "id": "2b591466-e710-47fb-b6dc-10c37ab42acd",
   "metadata": {},
   "outputs": [],
   "source": [
    "scores = abs(np.exp(yhat) - np.exp(y))/np.exp(y)"
   ]
  },
  {
   "cell_type": "code",
   "execution_count": null,
   "id": "e9d5bc01-8f6b-4d44-b232-5a06a417a964",
   "metadata": {},
   "outputs": [
    {
     "data": {
      "text/plain": [
       "1.3775764546037044"
      ]
     },
     "metadata": {},
     "output_type": "display_data"
    }
   ],
   "source": [
    "MAPE = scores.sum()/len(scores)\n",
    "MAPE"
   ]
  },
  {
   "cell_type": "markdown",
   "id": "645288c6-c1ab-4bbb-aa00-8475228b2f8f",
   "metadata": {},
   "source": [
    "#### Cross-Validation"
   ]
  },
  {
   "cell_type": "code",
   "execution_count": null,
   "id": "c0c7758b-fac0-40aa-8f0c-68ca33d0e306",
   "metadata": {},
   "outputs": [],
   "source": [
    "from sklearn.model_selection import RepeatedKFold\n",
    "cv = RepeatedKFold(n_splits=5, n_repeats=3, random_state=1)"
   ]
  },
  {
   "cell_type": "code",
   "execution_count": null,
   "id": "6dfbe656-d602-41c5-a6f4-233c229870e7",
   "metadata": {},
   "outputs": [
    {
     "data": {
      "text/html": [
       "<div>\n",
       "<style scoped>\n",
       "    .dataframe tbody tr th:only-of-type {\n",
       "        vertical-align: middle;\n",
       "    }\n",
       "\n",
       "    .dataframe tbody tr th {\n",
       "        vertical-align: top;\n",
       "    }\n",
       "\n",
       "    .dataframe thead th {\n",
       "        text-align: right;\n",
       "    }\n",
       "</style>\n",
       "<table border=\"1\" class=\"dataframe\">\n",
       "  <thead>\n",
       "    <tr style=\"text-align: right;\">\n",
       "      <th></th>\n",
       "      <th>geographic_ward</th>\n",
       "      <th>category_code</th>\n",
       "      <th>total_area</th>\n",
       "      <th>garage_spaces</th>\n",
       "      <th>off_street_open</th>\n",
       "      <th>garage_type_1</th>\n",
       "      <th>garage_type_2</th>\n",
       "      <th>garage_type_3</th>\n",
       "      <th>garage_type_A</th>\n",
       "      <th>garage_type_B</th>\n",
       "      <th>...</th>\n",
       "      <th>central_air_1</th>\n",
       "      <th>central_air_N</th>\n",
       "      <th>central_air_Y</th>\n",
       "      <th>view_type_A</th>\n",
       "      <th>view_type_B</th>\n",
       "      <th>view_type_C</th>\n",
       "      <th>view_type_D</th>\n",
       "      <th>view_type_E</th>\n",
       "      <th>view_type_H</th>\n",
       "      <th>view_type_I</th>\n",
       "    </tr>\n",
       "    <tr>\n",
       "      <th>objectid</th>\n",
       "      <th></th>\n",
       "      <th></th>\n",
       "      <th></th>\n",
       "      <th></th>\n",
       "      <th></th>\n",
       "      <th></th>\n",
       "      <th></th>\n",
       "      <th></th>\n",
       "      <th></th>\n",
       "      <th></th>\n",
       "      <th></th>\n",
       "      <th></th>\n",
       "      <th></th>\n",
       "      <th></th>\n",
       "      <th></th>\n",
       "      <th></th>\n",
       "      <th></th>\n",
       "      <th></th>\n",
       "      <th></th>\n",
       "      <th></th>\n",
       "      <th></th>\n",
       "    </tr>\n",
       "  </thead>\n",
       "  <tbody>\n",
       "    <tr>\n",
       "      <th>75913755</th>\n",
       "      <td>65</td>\n",
       "      <td>1</td>\n",
       "      <td>1600.0</td>\n",
       "      <td>1.0</td>\n",
       "      <td>0.0</td>\n",
       "      <td>0</td>\n",
       "      <td>0</td>\n",
       "      <td>0</td>\n",
       "      <td>1</td>\n",
       "      <td>0</td>\n",
       "      <td>...</td>\n",
       "      <td>0</td>\n",
       "      <td>0</td>\n",
       "      <td>0</td>\n",
       "      <td>0</td>\n",
       "      <td>0</td>\n",
       "      <td>0</td>\n",
       "      <td>0</td>\n",
       "      <td>0</td>\n",
       "      <td>0</td>\n",
       "      <td>1</td>\n",
       "    </tr>\n",
       "    <tr>\n",
       "      <th>76138460</th>\n",
       "      <td>58</td>\n",
       "      <td>1</td>\n",
       "      <td>7456.0</td>\n",
       "      <td>1.0</td>\n",
       "      <td>0.0</td>\n",
       "      <td>0</td>\n",
       "      <td>0</td>\n",
       "      <td>0</td>\n",
       "      <td>1</td>\n",
       "      <td>0</td>\n",
       "      <td>...</td>\n",
       "      <td>0</td>\n",
       "      <td>0</td>\n",
       "      <td>0</td>\n",
       "      <td>0</td>\n",
       "      <td>0</td>\n",
       "      <td>0</td>\n",
       "      <td>0</td>\n",
       "      <td>0</td>\n",
       "      <td>0</td>\n",
       "      <td>1</td>\n",
       "    </tr>\n",
       "    <tr>\n",
       "      <th>75760180</th>\n",
       "      <td>8</td>\n",
       "      <td>1</td>\n",
       "      <td>848.0</td>\n",
       "      <td>1.0</td>\n",
       "      <td>0.0</td>\n",
       "      <td>0</td>\n",
       "      <td>0</td>\n",
       "      <td>0</td>\n",
       "      <td>1</td>\n",
       "      <td>0</td>\n",
       "      <td>...</td>\n",
       "      <td>0</td>\n",
       "      <td>0</td>\n",
       "      <td>0</td>\n",
       "      <td>0</td>\n",
       "      <td>0</td>\n",
       "      <td>0</td>\n",
       "      <td>0</td>\n",
       "      <td>0</td>\n",
       "      <td>0</td>\n",
       "      <td>1</td>\n",
       "    </tr>\n",
       "    <tr>\n",
       "      <th>76128800</th>\n",
       "      <td>26</td>\n",
       "      <td>1</td>\n",
       "      <td>644.0</td>\n",
       "      <td>0.0</td>\n",
       "      <td>0.0</td>\n",
       "      <td>0</td>\n",
       "      <td>0</td>\n",
       "      <td>0</td>\n",
       "      <td>0</td>\n",
       "      <td>0</td>\n",
       "      <td>...</td>\n",
       "      <td>0</td>\n",
       "      <td>0</td>\n",
       "      <td>0</td>\n",
       "      <td>0</td>\n",
       "      <td>0</td>\n",
       "      <td>0</td>\n",
       "      <td>0</td>\n",
       "      <td>0</td>\n",
       "      <td>0</td>\n",
       "      <td>1</td>\n",
       "    </tr>\n",
       "    <tr>\n",
       "      <th>76023304</th>\n",
       "      <td>42</td>\n",
       "      <td>1</td>\n",
       "      <td>586.8</td>\n",
       "      <td>0.0</td>\n",
       "      <td>0.0</td>\n",
       "      <td>0</td>\n",
       "      <td>0</td>\n",
       "      <td>0</td>\n",
       "      <td>0</td>\n",
       "      <td>0</td>\n",
       "      <td>...</td>\n",
       "      <td>0</td>\n",
       "      <td>0</td>\n",
       "      <td>0</td>\n",
       "      <td>0</td>\n",
       "      <td>0</td>\n",
       "      <td>0</td>\n",
       "      <td>0</td>\n",
       "      <td>0</td>\n",
       "      <td>0</td>\n",
       "      <td>1</td>\n",
       "    </tr>\n",
       "  </tbody>\n",
       "</table>\n",
       "<p>5 rows × 31 columns</p>\n",
       "</div>"
      ],
      "text/plain": [
       "         geographic_ward category_code  total_area  garage_spaces  \\\n",
       "objectid                                                            \n",
       "75913755              65             1      1600.0            1.0   \n",
       "76138460              58             1      7456.0            1.0   \n",
       "75760180               8             1       848.0            1.0   \n",
       "76128800              26             1       644.0            0.0   \n",
       "76023304              42             1       586.8            0.0   \n",
       "\n",
       "          off_street_open  garage_type_1  garage_type_2  garage_type_3  \\\n",
       "objectid                                                                 \n",
       "75913755              0.0              0              0              0   \n",
       "76138460              0.0              0              0              0   \n",
       "75760180              0.0              0              0              0   \n",
       "76128800              0.0              0              0              0   \n",
       "76023304              0.0              0              0              0   \n",
       "\n",
       "          garage_type_A  garage_type_B  ...  central_air_1  central_air_N  \\\n",
       "objectid                                ...                                 \n",
       "75913755              1              0  ...              0              0   \n",
       "76138460              1              0  ...              0              0   \n",
       "75760180              1              0  ...              0              0   \n",
       "76128800              0              0  ...              0              0   \n",
       "76023304              0              0  ...              0              0   \n",
       "\n",
       "          central_air_Y  view_type_A  view_type_B  view_type_C  view_type_D  \\\n",
       "objectid                                                                      \n",
       "75913755              0            0            0            0            0   \n",
       "76138460              0            0            0            0            0   \n",
       "75760180              0            0            0            0            0   \n",
       "76128800              0            0            0            0            0   \n",
       "76023304              0            0            0            0            0   \n",
       "\n",
       "          view_type_E  view_type_H  view_type_I  \n",
       "objectid                                         \n",
       "75913755            0            0            1  \n",
       "76138460            0            0            1  \n",
       "75760180            0            0            1  \n",
       "76128800            0            0            1  \n",
       "76023304            0            0            1  \n",
       "\n",
       "[5 rows x 31 columns]"
      ]
     },
     "metadata": {},
     "output_type": "display_data"
    }
   ],
   "source": [
    "X,y = sale_xy(df)\n",
    "X.head()"
   ]
  },
  {
   "cell_type": "code",
   "execution_count": null,
   "id": "fe69e628-9ac9-4af7-a29c-7ccb6f6bdc54",
   "metadata": {},
   "outputs": [],
   "source": [
    "X = X.drop(['geographic_ward','category_code', 'total_area'],axis=1)"
   ]
  },
  {
   "cell_type": "code",
   "execution_count": null,
   "id": "07535d61-2d18-44b6-bcee-aede9804b12d",
   "metadata": {},
   "outputs": [],
   "source": [
    "X_s = scaler.fit_transform(X)"
   ]
  },
  {
   "cell_type": "markdown",
   "id": "3a6b5752-4e13-4c47-9681-eb9a40cbcfc7",
   "metadata": {},
   "source": [
    "#### Lasso"
   ]
  },
  {
   "cell_type": "code",
   "execution_count": null,
   "id": "dde328e1-a27f-43c8-97cf-0b7979b4a271",
   "metadata": {},
   "outputs": [],
   "source": [
    "from sklearn.model_selection import cross_val_score\n",
    "\n",
    "ward_results = {}\n",
    "\n",
    "for ward in df.geographic_ward.unique():\n",
    "    if ward is not np.NaN:\n",
    "        X,y = sale_ward_xy(df, ward)\n",
    "        X = scaler.fit_transform(X)\n",
    "        scores = cross_val_score(model, X, y, scoring='neg_mean_absolute_error', cv=cv, n_jobs=-1)\n",
    "        ward_results[ward] = scores\n",
    "\n",
    "\n",
    "sorted_ward = [int(ward) for ward in ward_results.keys()]\n",
    "sorted_ward.sort()\n",
    "\n",
    "for ward in sorted_ward:\n",
    "    scores = np.absolute(ward_results[ward])\n",
    "    print(f\"#### Geographic Ward {ward} ####\")\n",
    "    print(f'Mean MAE: {scores.mean():.1f} ({scores.std():.1f})')\n",
    "    print(f'Max Error: {scores.max():.1f}')\n",
    "    print(f'Median Error: {np.median(scores):.1f}')"
   ]
  },
  {
   "cell_type": "markdown",
   "id": "99deeba9-d1f0-4ad0-afc0-34853a3913db",
   "metadata": {},
   "source": [
    "##### Lasso on Building Categories"
   ]
  },
  {
   "cell_type": "code",
   "execution_count": null,
   "id": "14bcdd3b-4301-423e-97bf-da36fbe4c4a6",
   "metadata": {},
   "outputs": [
    {
     "data": {
      "text/plain": [
       "1     369532\n",
       "6      35103\n",
       "2      33920\n",
       "3      11549\n",
       "4      11145\n",
       "5       3481\n",
       "13        15\n",
       "14        15\n",
       "8          6\n",
       "12         3\n",
       "7          1\n",
       "15         1\n",
       "11         0\n",
       "Name: category_code, dtype: int64"
      ]
     },
     "metadata": {},
     "output_type": "display_data"
    }
   ],
   "source": [
    "df.category_code.value_counts()"
   ]
  },
  {
   "cell_type": "code",
   "execution_count": null,
   "id": "e6044ff8-ed43-411b-bbaa-d1ab2aa65190",
   "metadata": {},
   "outputs": [],
   "source": [
    "sparse_cats = [13,14,8,12,7,15,11]"
   ]
  },
  {
   "cell_type": "code",
   "execution_count": null,
   "id": "57cff2b3-c5f0-40d9-a0cf-94c2b13bb555",
   "metadata": {},
   "outputs": [],
   "source": [
    "cat_results = {}\n",
    "\n",
    "for cat in df.category_code.unique():\n",
    "    if cat is not np.NaN and cat not in sparse_cats:\n",
    "        X,y = sale_cat_xy(df.drop('geographic_ward',axis=1), cat)\n",
    "        X = scaler.fit_transform(X)\n",
    "        scores = cross_val_score(model, X, y, scoring='neg_mean_absolute_error', cv=cv, n_jobs=-1)\n",
    "        cat_results[cat] = scores"
   ]
  },
  {
   "cell_type": "code",
   "execution_count": null,
   "id": "96ce8dfc-75ed-4cc9-ac24-740a832be41e",
   "metadata": {},
   "outputs": [
    {
     "name": "stdout",
     "output_type": "stream",
     "text": [
      "#### Building Category 1 ####\n",
      "Mean MAE: 750832.3 (63084.3)\n",
      "Max Error: 941281.9\n",
      "Median Error: 751788.0\n",
      "#### Building Category 2 ####\n",
      "Mean MAE: 406780.1 (33546.2)\n",
      "Max Error: 491624.5\n",
      "Median Error: 398721.5\n",
      "#### Building Category 3 ####\n",
      "Mean MAE: 169647.1 (18932.9)\n",
      "Max Error: 225769.2\n",
      "Median Error: 164257.4\n",
      "#### Building Category 4 ####\n",
      "Mean MAE: 3181874.2 (479806.0)\n",
      "Max Error: 4026616.9\n",
      "Median Error: 3082784.0\n",
      "#### Building Category 5 ####\n",
      "Mean MAE: 941291.0 (158330.4)\n",
      "Max Error: 1371121.4\n",
      "Median Error: 912111.0\n",
      "#### Building Category 6 ####\n",
      "Mean MAE: 317367.6 (52934.4)\n",
      "Max Error: 430713.4\n",
      "Median Error: 317795.0\n"
     ]
    }
   ],
   "source": [
    "sorted_cat = [int(cat) for cat in cat_results.keys()]\n",
    "sorted_cat.sort()\n",
    "\n",
    "for cat in sorted_cat:\n",
    "    scores = np.absolute(cat_results[cat])\n",
    "    print(f\"#### Building Category {cat} ####\")\n",
    "    print(f'Mean MAE: {scores.mean():.1f} ({scores.std():.1f})')\n",
    "    print(f'Max Error: {scores.max():.1f}')\n",
    "    print(f'Median Error: {np.median(scores):.1f}')"
   ]
  },
  {
   "cell_type": "markdown",
   "id": "f3370f84-6c2d-4d2e-b8dd-0c2c0d98fd8b",
   "metadata": {},
   "source": [
    "##### Lasso on Wards and Categories"
   ]
  },
  {
   "cell_type": "code",
   "execution_count": null,
   "id": "d92cf7ae-7db9-4c2e-8329-15879bcce450",
   "metadata": {},
   "outputs": [],
   "source": [
    "ward_cat_results = {}\n",
    "\n",
    "cat_results = {}\n",
    "\n",
    "for ward in df.geographic_ward.unique():\n",
    "    if ward is not np.NaN:\n",
    "        for cat in df.category_code.unique():\n",
    "            if cat is not np.NaN and cat not in sparse_cats:\n",
    "                X,y = sale_cat_xy(df[df['geographic_ward']==ward], cat)\n",
    "                if X.shape[0] >= 10:\n",
    "                    X = scaler.fit_transform(X)\n",
    "                    scores = cross_val_score(model, X, y, scoring='neg_mean_absolute_error', cv=cv, n_jobs=-1)\n",
    "                    ward_cat_results[(ward,cat)] = scores"
   ]
  },
  {
   "cell_type": "code",
   "execution_count": null,
   "id": "99dc9020-ab49-4045-b7ec-60bc29ba5b27",
   "metadata": {},
   "outputs": [],
   "source": [
    "sorted_ward_cat = [_ for _ in ward_cat_results.keys()]\n",
    "sorted_ward_cat.sort()\n",
    "\n",
    "for ward_cat in sorted_ward_cat:\n",
    "    scores = np.absolute(ward_cat_results[ward_cat])\n",
    "    print(f\"#### Ward {ward_cat[0]} Building Category {ward_cat[1]} ####\")\n",
    "    print(f'Mean MAE: {scores.mean():.1f} ({scores.std():.1f})')\n",
    "    print(f'Max Error: {scores.max():.1f}')\n",
    "    print(f'Median Error: {np.median(scores):.1f}')"
   ]
  },
  {
   "cell_type": "markdown",
   "id": "b8ba4409-d8a4-4119-a74e-1670137784bc",
   "metadata": {},
   "source": [
    "#### Ridge"
   ]
  },
  {
   "cell_type": "markdown",
   "id": "15a5d22a-f79a-466f-a0b4-1b584bcb7883",
   "metadata": {},
   "source": [
    "#### XGBoost"
   ]
  },
  {
   "cell_type": "code",
   "execution_count": null,
   "id": "f1975084-3213-4883-a058-ad68b148ff64",
   "metadata": {},
   "outputs": [],
   "source": [
    "import xgboost as xgb\n",
    "from sklearn.model_selection import cross_val_score"
   ]
  },
  {
   "cell_type": "markdown",
   "id": "a37c87cf-f524-416c-bfe3-ae3259552373",
   "metadata": {},
   "source": [
    "### Run Models For Different Wards & Property Types"
   ]
  },
  {
   "cell_type": "code",
   "execution_count": null,
   "id": "bccc1db8-a92c-4db7-a2b1-3b764548eab2",
   "metadata": {},
   "outputs": [],
   "source": []
  }
 ],
 "metadata": {
  "kernelspec": {
   "display_name": "Python 3.10.8 64-bit",
   "language": "python",
   "name": "python3"
  },
  "language_info": {
   "name": "python",
   "version": "3.10.8"
  },
  "orig_nbformat": 4,
  "vscode": {
   "interpreter": {
    "hash": "b0fa6594d8f4cbf19f97940f81e996739fb7646882a419484c72d19e05852a7e"
   }
  }
 },
 "nbformat": 4,
 "nbformat_minor": 2
}
